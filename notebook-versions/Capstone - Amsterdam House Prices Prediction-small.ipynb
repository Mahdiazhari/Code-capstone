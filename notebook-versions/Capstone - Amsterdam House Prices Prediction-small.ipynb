{
 "cells": [
  {
   "cell_type": "markdown",
   "metadata": {},
   "source": [
    "# Neural Networks Model using Keras and TensorFlow"
   ]
  },
  {
   "cell_type": "markdown",
   "metadata": {},
   "source": [
    "## Objectives:\n",
    "-Create a neural network model with Keras\n",
    "\n",
    "-Evaluate models using cross-validation with scikit-learn \n",
    "\n",
    "-Tune model with Keras"
   ]
  },
  {
   "cell_type": "code",
   "execution_count": 55,
   "metadata": {},
   "outputs": [],
   "source": [
    "import numpy \n",
    "from pandas import read_csv\n",
    "from keras.models import Sequential\n",
    "from keras.layers import Dense\n",
    "from keras.wrappers.scikit_learn import KerasRegressor\n",
    "from sklearn.model_selection import cross_val_score\n",
    "from sklearn.model_selection import KFold\n",
    "from sklearn.preprocessing import StandardScaler\n",
    "from sklearn.pipeline import Pipeline\n",
    "from sklearn.model_selection import train_test_split\n",
    "from sklearn import metrics\n",
    "from scipy.stats import zscore\n",
    "from keras.models import Sequential\n",
    "from keras.layers.core import Dense, Activation\n",
    "from keras.callbacks import EarlyStopping\n",
    "from keras.callbacks import ModelCheckpoint\n",
    "import pandas as pd\n",
    "import matplotlib.pyplot as plt\n",
    "from sklearn.metrics import roc_curve, auc\n",
    "%matplotlib inline"
   ]
  },
  {
   "cell_type": "markdown",
   "metadata": {},
   "source": [
    "## Dataset Visualization:"
   ]
  },
  {
   "cell_type": "code",
   "execution_count": 138,
   "metadata": {},
   "outputs": [
    {
     "name": "stdout",
     "output_type": "stream",
     "text": [
      "[[ 5.15761734 -0.24349167  4.21807358 ...  0.30806952  0.68210999\n",
      "  -0.25360226]\n",
      " [ 5.15761734 -0.24349167  4.21807358 ...  0.30806952  0.68210999\n",
      "  -0.25360226]\n",
      " [ 5.15761734 -0.24349167 -0.70732422 ...  0.30806952  0.68210999\n",
      "  -0.25360226]\n",
      " ...\n",
      " [-0.86802419 -0.24349167 -2.18494357 ...  0.30806952  0.68210999\n",
      "  -0.25360226]\n",
      " [-0.86802419 -0.24349167 -2.18494357 ...  0.30806952  0.68210999\n",
      "   3.94122854]\n",
      " [-0.86802419 -0.24349167 -2.18494357 ... -3.24441209 -1.46531273\n",
      "  -0.25360226]]\n",
      "[1305000. 1250000. 1225000. ...  865000.  855000.  390000.]\n"
     ]
    }
   ],
   "source": [
    "\n",
    "\n",
    "# load dataset \n",
    "df = pd.read_csv(\"DataNVMsmall.csv\") \n",
    "dataset = df.values\n",
    "\n",
    "# Encode a numeric column as zscores\n",
    "def encode_numeric_zscore(df, name, mean=None, sd=None):\n",
    "    if mean is None:\n",
    "        mean = df[name].mean()\n",
    "\n",
    "    if sd is None:\n",
    "        sd = df[name].std()\n",
    "\n",
    "    df[name] = (df[name] - mean) / sd\n",
    "\n",
    "\n",
    "# Convert a Pandas dataframe to the x,y inputs that TensorFlow needs\n",
    "def to_xy(df, target):\n",
    "    result = []\n",
    "    for x in df.columns:\n",
    "        if x != target:\n",
    "            result.append(x)\n",
    "    # find out the type of the target column.  Is it really this hard? :(\n",
    "    target_type = df[target].dtypes\n",
    "    target_type = target_type[0] if hasattr(target_type, '__iter__') else target_type\n",
    "    # Encode to int for classification, float otherwise. TensorFlow likes 32 bits.\n",
    "    if target_type in (np.int64, np.int32):\n",
    "        # Classification\n",
    "        dummies = pd.get_dummies(df[target])\n",
    "        return df.as_matrix(result).astype(np.float32), dummies.as_matrix().astype(np.float32)\n",
    "    else:\n",
    "        # Regression\n",
    "        return df.as_matrix(result).astype(np.float32), df.as_matrix([target]).astype(np.float32)\n",
    "\n",
    "\n",
    "if True:\n",
    "    encode_numeric_zscore(df, 'size')\n",
    "    encode_numeric_zscore(df, 'canalhouse')\n",
    "    encode_numeric_zscore(df, 'rooms')\n",
    "    encode_numeric_zscore(df, 'balconyroofterrace')\n",
    "    encode_numeric_zscore(df, 'parking')\n",
    "    encode_numeric_zscore(df, 'carport')\n",
    "    encode_numeric_zscore(df, 'garage')\n",
    "    encode_numeric_zscore(df, 'garden')\n",
    "    encode_numeric_zscore(df, 'maintenancegood')\n",
    "    encode_numeric_zscore(df, 'centralheating')\n",
    "    encode_numeric_zscore(df, 'insulation')\n",
    "    encode_numeric_zscore(df, 'listed')\n",
    "    \n",
    "dataset = df.values\n",
    "#split data into X and Y variables:\n",
    "X = dataset[:,1:13]\n",
    "Y = dataset[:,0]\n",
    "\n",
    "print(X)\n",
    "print(Y)\n",
    "\n",
    "\n",
    "# Split into train/test\n",
    "x_train, x_test, y_train, y_test = train_test_split(\n",
    "    X, Y, test_size=0.20, random_state=42)\n",
    "\n",
    "#plot regression chart\n",
    "# Regression chart.\n",
    "def chart_regression(pred,y,sort=True):\n",
    "    t = pd.DataFrame({'pred' : pred, 'y' : y.flatten()})\n",
    "    if sort:\n",
    "        t.sort_values(by=['y'],inplace=True)\n",
    "    a = plt.plot(t['y'].tolist(),label='expected')\n",
    "    b = plt.plot(t['pred'].tolist(),label='prediction')\n",
    "    plt.ylabel('output')\n",
    "    plt.legend()\n",
    "    plt.show()\n",
    "    \n",
    "\n",
    "\n",
    "\n",
    "\n"
   ]
  },
  {
   "cell_type": "code",
   "execution_count": 139,
   "metadata": {},
   "outputs": [
    {
     "data": {
      "text/html": [
       "<div>\n",
       "<style scoped>\n",
       "    .dataframe tbody tr th:only-of-type {\n",
       "        vertical-align: middle;\n",
       "    }\n",
       "\n",
       "    .dataframe tbody tr th {\n",
       "        vertical-align: top;\n",
       "    }\n",
       "\n",
       "    .dataframe thead th {\n",
       "        text-align: right;\n",
       "    }\n",
       "</style>\n",
       "<table border=\"1\" class=\"dataframe\">\n",
       "  <thead>\n",
       "    <tr style=\"text-align: right;\">\n",
       "      <th></th>\n",
       "      <th>price</th>\n",
       "      <th>size</th>\n",
       "      <th>canalhouse</th>\n",
       "      <th>rooms</th>\n",
       "      <th>balconyroofterrace</th>\n",
       "      <th>parking</th>\n",
       "      <th>carport</th>\n",
       "      <th>garage</th>\n",
       "      <th>garden</th>\n",
       "      <th>maintenancegood</th>\n",
       "      <th>centralheating</th>\n",
       "      <th>insulation</th>\n",
       "      <th>listed</th>\n",
       "    </tr>\n",
       "  </thead>\n",
       "  <tbody>\n",
       "    <tr>\n",
       "      <th>0</th>\n",
       "      <td>1305000</td>\n",
       "      <td>5.157617</td>\n",
       "      <td>-0.243492</td>\n",
       "      <td>4.218074</td>\n",
       "      <td>-1.141493</td>\n",
       "      <td>1.078118</td>\n",
       "      <td>-0.212208</td>\n",
       "      <td>1.365852</td>\n",
       "      <td>-1.346702</td>\n",
       "      <td>-0.723816</td>\n",
       "      <td>0.30807</td>\n",
       "      <td>0.682110</td>\n",
       "      <td>-0.253602</td>\n",
       "    </tr>\n",
       "    <tr>\n",
       "      <th>1</th>\n",
       "      <td>1250000</td>\n",
       "      <td>5.157617</td>\n",
       "      <td>-0.243492</td>\n",
       "      <td>4.218074</td>\n",
       "      <td>-1.141493</td>\n",
       "      <td>1.078118</td>\n",
       "      <td>-0.212208</td>\n",
       "      <td>1.365852</td>\n",
       "      <td>-1.346702</td>\n",
       "      <td>-0.723816</td>\n",
       "      <td>0.30807</td>\n",
       "      <td>0.682110</td>\n",
       "      <td>-0.253602</td>\n",
       "    </tr>\n",
       "    <tr>\n",
       "      <th>2</th>\n",
       "      <td>1225000</td>\n",
       "      <td>5.157617</td>\n",
       "      <td>-0.243492</td>\n",
       "      <td>-0.707324</td>\n",
       "      <td>-1.141493</td>\n",
       "      <td>1.078118</td>\n",
       "      <td>-0.212208</td>\n",
       "      <td>1.365852</td>\n",
       "      <td>-1.346702</td>\n",
       "      <td>1.380882</td>\n",
       "      <td>0.30807</td>\n",
       "      <td>0.682110</td>\n",
       "      <td>-0.253602</td>\n",
       "    </tr>\n",
       "    <tr>\n",
       "      <th>3</th>\n",
       "      <td>3150000</td>\n",
       "      <td>4.686864</td>\n",
       "      <td>-0.243492</td>\n",
       "      <td>1.755375</td>\n",
       "      <td>-1.141493</td>\n",
       "      <td>1.078118</td>\n",
       "      <td>-0.212208</td>\n",
       "      <td>1.365852</td>\n",
       "      <td>-1.346702</td>\n",
       "      <td>1.380882</td>\n",
       "      <td>0.30807</td>\n",
       "      <td>0.682110</td>\n",
       "      <td>-0.253602</td>\n",
       "    </tr>\n",
       "    <tr>\n",
       "      <th>4</th>\n",
       "      <td>2050000</td>\n",
       "      <td>4.686864</td>\n",
       "      <td>-0.243492</td>\n",
       "      <td>-0.707324</td>\n",
       "      <td>0.875611</td>\n",
       "      <td>1.078118</td>\n",
       "      <td>4.710032</td>\n",
       "      <td>-0.731781</td>\n",
       "      <td>0.742187</td>\n",
       "      <td>1.380882</td>\n",
       "      <td>0.30807</td>\n",
       "      <td>-1.465313</td>\n",
       "      <td>-0.253602</td>\n",
       "    </tr>\n",
       "  </tbody>\n",
       "</table>\n",
       "</div>"
      ],
      "text/plain": [
       "     price      size  canalhouse     rooms  balconyroofterrace   parking  \\\n",
       "0  1305000  5.157617   -0.243492  4.218074           -1.141493  1.078118   \n",
       "1  1250000  5.157617   -0.243492  4.218074           -1.141493  1.078118   \n",
       "2  1225000  5.157617   -0.243492 -0.707324           -1.141493  1.078118   \n",
       "3  3150000  4.686864   -0.243492  1.755375           -1.141493  1.078118   \n",
       "4  2050000  4.686864   -0.243492 -0.707324            0.875611  1.078118   \n",
       "\n",
       "    carport    garage    garden  maintenancegood  centralheating  insulation  \\\n",
       "0 -0.212208  1.365852 -1.346702        -0.723816         0.30807    0.682110   \n",
       "1 -0.212208  1.365852 -1.346702        -0.723816         0.30807    0.682110   \n",
       "2 -0.212208  1.365852 -1.346702         1.380882         0.30807    0.682110   \n",
       "3 -0.212208  1.365852 -1.346702         1.380882         0.30807    0.682110   \n",
       "4  4.710032 -0.731781  0.742187         1.380882         0.30807   -1.465313   \n",
       "\n",
       "     listed  \n",
       "0 -0.253602  \n",
       "1 -0.253602  \n",
       "2 -0.253602  \n",
       "3 -0.253602  \n",
       "4 -0.253602  "
      ]
     },
     "execution_count": 139,
     "metadata": {},
     "output_type": "execute_result"
    }
   ],
   "source": [
    "df.head() #verifying that we could read the data correctly"
   ]
  },
  {
   "cell_type": "markdown",
   "metadata": {},
   "source": [
    "## Baseline Neural Network Model "
   ]
  },
  {
   "cell_type": "code",
   "execution_count": 140,
   "metadata": {},
   "outputs": [
    {
     "name": "stdout",
     "output_type": "stream",
     "text": [
      "Baseline: -859950109551.00 (131100397091.00) MSE\n"
     ]
    }
   ],
   "source": [
    "\n",
    "# define base model\n",
    "def baseline_model():\n",
    "\t# create model\n",
    "\tmodel = Sequential()\n",
    "\tmodel.add(Dense(12, input_dim=12, kernel_initializer='normal', activation='relu'))\n",
    "\tmodel.add(Dense(1, kernel_initializer='normal'))\n",
    "\t# Compile model\n",
    "\tmodel.compile(loss='mean_squared_error', optimizer='adam')\n",
    "\treturn model\n",
    "\n",
    "# fix random seed for reproducibility\n",
    "seed = 7\n",
    "numpy.random.seed(seed)\n",
    "\n",
    "# evaluate model\n",
    "estimator = KerasRegressor(build_fn=baseline_model, epochs=100, batch_size=5, verbose=0)\n",
    "kfold = KFold(n_splits=10, random_state=seed)\n",
    "results = cross_val_score(estimator, x_train, y_train, cv=kfold)\n",
    "print(\"Baseline: %.2f (%.2f) MSE\" % (results.mean(), results.std()))\n"
   ]
  },
  {
   "cell_type": "code",
   "execution_count": 114,
   "metadata": {},
   "outputs": [
    {
     "name": "stdout",
     "output_type": "stream",
     "text": [
      "[[ 3.03807013 -0.4843221   1.57314861 ...  0.5         1.19959343\n",
      "  -0.42008403]\n",
      " [ 3.03807013 -0.4843221   1.57314861 ...  0.5         1.19959343\n",
      "  -0.42008403]\n",
      " [ 3.03807013 -0.4843221  -1.69064518 ...  0.5         1.19959343\n",
      "  -0.42008403]\n",
      " ...\n",
      " [-1.0029915  -0.4843221  -0.38512767 ... -2.         -0.83361577\n",
      "  -0.42008403]\n",
      " [-1.0029915   2.0647416  -0.38512767 ...  0.5        -0.83361577\n",
      "   2.38047614]\n",
      " [-1.0029915  -0.4843221  -0.71150705 ...  0.5        -0.83361577\n",
      "  -0.42008403]]\n"
     ]
    }
   ],
   "source": [
    "print(Xscaled)\n"
   ]
  },
  {
   "cell_type": "code",
   "execution_count": 90,
   "metadata": {},
   "outputs": [
    {
     "name": "stdout",
     "output_type": "stream",
     "text": [
      "[1305000 1250000 1225000 3150000 2050000 1025000 2680000 2310000 2006045\n",
      " 1370000 1575000  835800 3625000  612500 2100000  935000  935000 2200000\n",
      " 1750000 4500000 2000000 1050000 2300000 2500000 2700000 1750000 1690000\n",
      " 2320000 2415000 2000000 1470000 1331250 1050000 1737500 2300000  537500\n",
      " 2300000 1250000  930000 1900000 1345000  505001 2350000 2325000 1595000\n",
      " 1400000 1275000 2400000 1275000  775000 1500000 4000000 1615000 1400000\n",
      " 2300000 1375000 1300000 2120000 1265000 1260000 2250000  540000 3650000\n",
      " 1250000 1450000 1950000 1900000 1260040 2315000 1485000 2200000 1395000\n",
      " 1600000 1200000 3000000 1350000 1175000 1250000 1050000  850000 1100000\n",
      " 1378750  900000  775000 1910000 1412500 1405000 1341392 1025000  640000\n",
      " 2050000 1400000 1150000 2775000 2250000 1750000 1165000  962500 1500000\n",
      " 2425000]\n"
     ]
    }
   ],
   "source": [
    "print(Y)\n"
   ]
  },
  {
   "cell_type": "code",
   "execution_count": 141,
   "metadata": {},
   "outputs": [
    {
     "name": "stdout",
     "output_type": "stream",
     "text": [
      "Score (RMSE): 895954.2789140233\n"
     ]
    },
    {
     "data": {
      "image/png": "[encoded data removed]",
      "text/plain": [
       "<Figure size 432x288 with 1 Axes>"
      ]
     },
     "metadata": {
      "needs_background": "light"
     },
     "output_type": "display_data"
    }
   ],
   "source": [
    "model = Sequential()\n",
    "model.add(Dense(12, input_dim=12, activation='relu'))\n",
    "model.add(Dense(1))\n",
    "model.compile(loss='mean_squared_error', optimizer='adam')\n",
    "monitor = EarlyStopping(monitor='val_loss', min_delta=1e-3, patience=5, verbose=1, mode='auto')\n",
    "checkpointer = ModelCheckpoint(filepath=\"best_weights.hdf5\", verbose=0, save_best_only=True) # save best model\n",
    "model.fit(x_train,y_train,validation_data=(x_test,y_test),callbacks=[monitor,checkpointer],verbose=0,epochs=1000)\n",
    "model.load_weights('best_weights.hdf5') # load weights from best model\n",
    "\n",
    "# Predict and measure RMSE\n",
    "pred = model.predict(x_test)\n",
    "score = numpy.sqrt(metrics.mean_squared_error(pred,y_test))\n",
    "print(\"Score (RMSE): {}\".format(score))\n",
    "\n",
    "# Plot the chart\n",
    "chart_regression(pred.flatten(),y_test)"
   ]
  },
  {
   "cell_type": "code",
   "execution_count": 39,
   "metadata": {},
   "outputs": [
    {
     "data": {
      "text/plain": [
       "10.0"
      ]
     },
     "execution_count": 39,
     "metadata": {},
     "output_type": "execute_result"
    }
   ],
   "source": [
    "numpy.sqrt(100)"
   ]
  },
  {
   "cell_type": "code",
   "execution_count": null,
   "metadata": {},
   "outputs": [],
   "source": []
  }
 ],
 "metadata": {
  "kernelspec": {
   "display_name": "Python 3",
   "language": "python",
   "name": "python3"
  },
  "language_info": {
   "codemirror_mode": {
    "name": "ipython",
    "version": 3
   },
   "file_extension": ".py",
   "mimetype": "text/x-python",
   "name": "python",
   "nbconvert_exporter": "python",
   "pygments_lexer": "ipython3",
   "version": "3.6.7"
  }
 },
 "nbformat": 4,
 "nbformat_minor": 2
}
