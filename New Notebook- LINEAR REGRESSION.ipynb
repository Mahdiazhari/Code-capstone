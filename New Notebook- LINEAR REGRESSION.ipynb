{
 "cells": [
  {
   "cell_type": "code",
   "execution_count": 1,
   "metadata": {},
   "outputs": [],
   "source": [
    "#Define Imports\n",
    "import numpy \n",
    "import pandas as pd\n",
    "from pandas import read_csv\n",
    "%matplotlib inline"
   ]
  },
  {
   "cell_type": "code",
   "execution_count": 59,
   "metadata": {},
   "outputs": [
    {
     "data": {
      "text/html": [
       "<div>\n",
       "<style scoped>\n",
       "    .dataframe tbody tr th:only-of-type {\n",
       "        vertical-align: middle;\n",
       "    }\n",
       "\n",
       "    .dataframe tbody tr th {\n",
       "        vertical-align: top;\n",
       "    }\n",
       "\n",
       "    .dataframe thead th {\n",
       "        text-align: right;\n",
       "    }\n",
       "</style>\n",
       "<table border=\"1\" class=\"dataframe\">\n",
       "  <thead>\n",
       "    <tr style=\"text-align: right;\">\n",
       "      <th></th>\n",
       "      <th>size</th>\n",
       "      <th>typeapartment</th>\n",
       "      <th>typeterraced</th>\n",
       "      <th>typesemidetached</th>\n",
       "      <th>typedetached</th>\n",
       "      <th>canalhouse</th>\n",
       "      <th>rooms</th>\n",
       "      <th>balconyroofterrace</th>\n",
       "      <th>noparking</th>\n",
       "      <th>parking</th>\n",
       "      <th>...</th>\n",
       "      <th>constryear_15001905</th>\n",
       "      <th>constryear_19061930</th>\n",
       "      <th>constryear_19311944</th>\n",
       "      <th>constryear_19451959</th>\n",
       "      <th>constryear_19601970</th>\n",
       "      <th>constryear_19711980</th>\n",
       "      <th>constryear_19811990</th>\n",
       "      <th>constryear_19912000</th>\n",
       "      <th>constryear_above2001</th>\n",
       "      <th>log_price</th>\n",
       "    </tr>\n",
       "  </thead>\n",
       "  <tbody>\n",
       "    <tr>\n",
       "      <th>0</th>\n",
       "      <td>410</td>\n",
       "      <td>0</td>\n",
       "      <td>0</td>\n",
       "      <td>0</td>\n",
       "      <td>1</td>\n",
       "      <td>0</td>\n",
       "      <td>10</td>\n",
       "      <td>0</td>\n",
       "      <td>0</td>\n",
       "      <td>1</td>\n",
       "      <td>...</td>\n",
       "      <td>0</td>\n",
       "      <td>1</td>\n",
       "      <td>0</td>\n",
       "      <td>0</td>\n",
       "      <td>0</td>\n",
       "      <td>0</td>\n",
       "      <td>0</td>\n",
       "      <td>0</td>\n",
       "      <td>0</td>\n",
       "      <td>15.319588</td>\n",
       "    </tr>\n",
       "    <tr>\n",
       "      <th>1</th>\n",
       "      <td>375</td>\n",
       "      <td>0</td>\n",
       "      <td>0</td>\n",
       "      <td>1</td>\n",
       "      <td>0</td>\n",
       "      <td>0</td>\n",
       "      <td>13</td>\n",
       "      <td>1</td>\n",
       "      <td>0</td>\n",
       "      <td>1</td>\n",
       "      <td>...</td>\n",
       "      <td>0</td>\n",
       "      <td>1</td>\n",
       "      <td>0</td>\n",
       "      <td>0</td>\n",
       "      <td>0</td>\n",
       "      <td>0</td>\n",
       "      <td>0</td>\n",
       "      <td>0</td>\n",
       "      <td>0</td>\n",
       "      <td>15.201805</td>\n",
       "    </tr>\n",
       "    <tr>\n",
       "      <th>2</th>\n",
       "      <td>370</td>\n",
       "      <td>0</td>\n",
       "      <td>0</td>\n",
       "      <td>0</td>\n",
       "      <td>1</td>\n",
       "      <td>0</td>\n",
       "      <td>9</td>\n",
       "      <td>1</td>\n",
       "      <td>0</td>\n",
       "      <td>1</td>\n",
       "      <td>...</td>\n",
       "      <td>0</td>\n",
       "      <td>0</td>\n",
       "      <td>1</td>\n",
       "      <td>0</td>\n",
       "      <td>0</td>\n",
       "      <td>0</td>\n",
       "      <td>0</td>\n",
       "      <td>0</td>\n",
       "      <td>0</td>\n",
       "      <td>15.110238</td>\n",
       "    </tr>\n",
       "    <tr>\n",
       "      <th>3</th>\n",
       "      <td>440</td>\n",
       "      <td>0</td>\n",
       "      <td>0</td>\n",
       "      <td>0</td>\n",
       "      <td>1</td>\n",
       "      <td>0</td>\n",
       "      <td>12</td>\n",
       "      <td>1</td>\n",
       "      <td>1</td>\n",
       "      <td>0</td>\n",
       "      <td>...</td>\n",
       "      <td>1</td>\n",
       "      <td>0</td>\n",
       "      <td>0</td>\n",
       "      <td>0</td>\n",
       "      <td>0</td>\n",
       "      <td>0</td>\n",
       "      <td>0</td>\n",
       "      <td>0</td>\n",
       "      <td>0</td>\n",
       "      <td>15.103365</td>\n",
       "    </tr>\n",
       "    <tr>\n",
       "      <th>4</th>\n",
       "      <td>360</td>\n",
       "      <td>0</td>\n",
       "      <td>1</td>\n",
       "      <td>0</td>\n",
       "      <td>0</td>\n",
       "      <td>0</td>\n",
       "      <td>7</td>\n",
       "      <td>1</td>\n",
       "      <td>1</td>\n",
       "      <td>0</td>\n",
       "      <td>...</td>\n",
       "      <td>1</td>\n",
       "      <td>0</td>\n",
       "      <td>0</td>\n",
       "      <td>0</td>\n",
       "      <td>0</td>\n",
       "      <td>0</td>\n",
       "      <td>0</td>\n",
       "      <td>0</td>\n",
       "      <td>0</td>\n",
       "      <td>14.914123</td>\n",
       "    </tr>\n",
       "  </tbody>\n",
       "</table>\n",
       "<p>5 rows × 28 columns</p>\n",
       "</div>"
      ],
      "text/plain": [
       "   size  typeapartment  typeterraced  typesemidetached  typedetached  \\\n",
       "0   410              0             0                 0             1   \n",
       "1   375              0             0                 1             0   \n",
       "2   370              0             0                 0             1   \n",
       "3   440              0             0                 0             1   \n",
       "4   360              0             1                 0             0   \n",
       "\n",
       "   canalhouse  rooms  balconyroofterrace  noparking  parking    ...      \\\n",
       "0           0     10                   0          0        1    ...       \n",
       "1           0     13                   1          0        1    ...       \n",
       "2           0      9                   1          0        1    ...       \n",
       "3           0     12                   1          1        0    ...       \n",
       "4           0      7                   1          1        0    ...       \n",
       "\n",
       "   constryear_15001905  constryear_19061930  constryear_19311944  \\\n",
       "0                    0                    1                    0   \n",
       "1                    0                    1                    0   \n",
       "2                    0                    0                    1   \n",
       "3                    1                    0                    0   \n",
       "4                    1                    0                    0   \n",
       "\n",
       "   constryear_19451959  constryear_19601970  constryear_19711980  \\\n",
       "0                    0                    0                    0   \n",
       "1                    0                    0                    0   \n",
       "2                    0                    0                    0   \n",
       "3                    0                    0                    0   \n",
       "4                    0                    0                    0   \n",
       "\n",
       "   constryear_19811990  constryear_19912000  constryear_above2001  log_price  \n",
       "0                    0                    0                     0  15.319588  \n",
       "1                    0                    0                     0  15.201805  \n",
       "2                    0                    0                     0  15.110238  \n",
       "3                    0                    0                     0  15.103365  \n",
       "4                    0                    0                     0  14.914123  \n",
       "\n",
       "[5 rows x 28 columns]"
      ]
     },
     "execution_count": 59,
     "metadata": {},
     "output_type": "execute_result"
    }
   ],
   "source": [
    "# load the dataset \n",
    "df = pd.read_csv(\"DataNVM-filtered-no-outliers.csv\") \n",
    "dataset = df.values\n",
    "\n",
    "\n",
    "#split data into X and Y variables:\n",
    "X = dataset[:,0:26]\n",
    "Y = dataset[:,27]\n",
    "\n",
    "X_table = dataset[0:20,0:26]\n",
    "Y_table = dataset[0:20,27]\n",
    "\n",
    "df.head() #verifying that we could read the data correctly"
   ]
  },
  {
   "cell_type": "code",
   "execution_count": 39,
   "metadata": {},
   "outputs": [
    {
     "name": "stdout",
     "output_type": "stream",
     "text": [
      "[[410.   0.   0. ...   0.   0.   0.]\n",
      " [375.   0.   0. ...   0.   0.   0.]\n",
      " [370.   0.   0. ...   0.   0.   0.]\n",
      " ...\n",
      " [ 35.   1.   0. ...   0.   1.   0.]\n",
      " [ 30.   1.   0. ...   0.   1.   0.]\n",
      " [ 33.   1.   0. ...   0.   1.   0.]]\n",
      "[15.31958795 15.20180492 15.11023773 ... 11.00209984 11.00209984\n",
      " 11.00209984]\n",
      "[[410.   0.   0.   0.   1.   0.  10.   0.   0.   1.   0.   0.   0.   1.\n",
      "    0.   0.   0.   0.   0.   1.   0.   0.   0.   0.   0.   0.]\n",
      " [375.   0.   0.   1.   0.   0.  13.   1.   0.   1.   0.   1.   1.   0.\n",
      "    1.   0.   0.   0.   0.   1.   0.   0.   0.   0.   0.   0.]\n",
      " [370.   0.   0.   0.   1.   0.   9.   1.   0.   1.   0.   1.   1.   0.\n",
      "    1.   0.   1.   0.   0.   0.   1.   0.   0.   0.   0.   0.]\n",
      " [440.   0.   0.   0.   1.   0.  12.   1.   1.   0.   0.   0.   1.   0.\n",
      "    1.   1.   0.   0.   1.   0.   0.   0.   0.   0.   0.   0.]\n",
      " [360.   0.   1.   0.   0.   0.   7.   1.   1.   0.   0.   0.   1.   1.\n",
      "    1.   1.   0.   0.   1.   0.   0.   0.   0.   0.   0.   0.]\n",
      " [350.   0.   0.   1.   0.   0.   9.   1.   0.   1.   0.   1.   0.   0.\n",
      "    1.   0.   0.   0.   0.   1.   0.   0.   0.   0.   0.   0.]\n",
      " [400.   0.   0.   1.   0.   0.  13.   1.   1.   0.   0.   0.   0.   1.\n",
      "    1.   0.   1.   0.   1.   0.   0.   0.   0.   0.   0.   0.]\n",
      " [450.   0.   1.   0.   0.   0.  11.   1.   1.   0.   0.   0.   1.   0.\n",
      "    1.   1.   0.   0.   0.   1.   0.   0.   0.   0.   0.   0.]\n",
      " [275.   0.   0.   1.   0.   0.   7.   1.   0.   1.   0.   1.   1.   0.\n",
      "    1.   0.   0.   0.   0.   1.   0.   0.   0.   0.   0.   0.]\n",
      " [300.   0.   0.   0.   1.   1.   6.   0.   0.   1.   0.   0.   1.   1.\n",
      "    1.   1.   0.   0.   0.   0.   0.   0.   0.   0.   0.   1.]\n",
      " [300.   0.   0.   0.   1.   1.   6.   0.   0.   1.   0.   0.   1.   1.\n",
      "    1.   1.   0.   0.   0.   0.   0.   0.   0.   0.   0.   1.]\n",
      " [400.   0.   0.   1.   0.   0.  13.   1.   0.   1.   0.   1.   1.   1.\n",
      "    1.   0.   0.   0.   0.   1.   0.   0.   0.   0.   0.   0.]\n",
      " [350.   0.   0.   0.   1.   0.   8.   1.   0.   1.   0.   1.   0.   0.\n",
      "    1.   0.   0.   0.   0.   0.   0.   1.   0.   0.   0.   0.]\n",
      " [400.   0.   1.   0.   0.   0.  10.   1.   1.   0.   0.   0.   1.   1.\n",
      "    1.   1.   0.   0.   1.   0.   0.   0.   0.   0.   0.   0.]\n",
      " [380.   0.   0.   0.   1.   0.   6.   0.   0.   1.   0.   1.   0.   0.\n",
      "    1.   1.   0.   0.   0.   0.   0.   1.   0.   0.   0.   0.]\n",
      " [300.   0.   0.   0.   1.   0.   9.   1.   0.   1.   0.   1.   1.   1.\n",
      "    1.   1.   0.   0.   0.   0.   0.   1.   0.   0.   0.   0.]\n",
      " [380.   0.   1.   0.   0.   0.  13.   1.   1.   0.   0.   0.   1.   0.\n",
      "    0.   0.   0.   0.   0.   1.   0.   0.   0.   0.   0.   0.]\n",
      " [380.   0.   1.   0.   0.   0.  13.   1.   1.   0.   0.   0.   1.   0.\n",
      "    0.   0.   0.   0.   0.   1.   0.   0.   0.   0.   0.   0.]\n",
      " [400.   0.   0.   0.   1.   0.  10.   0.   0.   1.   0.   1.   0.   0.\n",
      "    1.   1.   0.   0.   0.   0.   1.   0.   0.   0.   0.   0.]]\n",
      "[15.31958795 15.20180492 15.11023773 15.10336485 14.91412285 14.83616131\n",
      " 14.80876233 14.80132735 14.77677466 14.73180129 14.73180129 14.73180129\n",
      " 14.70134208 14.69720985 14.6909793  14.66992589 14.66992589 14.6592306\n",
      " 14.65707774]\n"
     ]
    }
   ],
   "source": [
    "print(X)\n",
    "\n",
    "print(Y)\n",
    "\n",
    "print(X_table)\n",
    "print(Y_table)"
   ]
  },
  {
   "cell_type": "code",
   "execution_count": 4,
   "metadata": {},
   "outputs": [],
   "source": [
    "#Importing StandardScaler\n",
    "from sklearn.preprocessing import StandardScaler\n",
    "#Import for splitting data\n",
    "from sklearn.model_selection import train_test_split\n",
    "\n"
   ]
  },
  {
   "cell_type": "code",
   "execution_count": 5,
   "metadata": {
    "scrolled": true
   },
   "outputs": [
    {
     "name": "stdout",
     "output_type": "stream",
     "text": [
      "This is the MAE:\n",
      "0.1857251692229057\n",
      "This is the MSE:\n",
      "0.05593308395650694\n",
      "The Following is the RMSE:\n",
      "0.23650176311500712\n",
      "The Following is the R^2 Score:\n",
      "0.7545459816728723\n"
     ]
    }
   ],
   "source": [
    "#Importing Linear Regression\n",
    "from sklearn.linear_model import LinearRegression\n",
    "lr = LinearRegression(normalize=True)\n",
    "lr.fit(X,Y)\n",
    "\n",
    "#prediction\n",
    "y_pred = lr.predict(X)\n",
    "\n",
    "from sklearn.metrics import accuracy_score\n",
    "\n",
    "#accuracy_score(Y, y_pred)\n",
    "\n",
    "#Compute the MAE\n",
    "from sklearn.metrics import mean_absolute_error\n",
    "print(\"This is the MAE:\")\n",
    "print(mean_absolute_error(Y, y_pred))\n",
    "\n",
    "#Compute the MSE\n",
    "from sklearn.metrics import mean_squared_error\n",
    "print(\"This is the MSE:\")\n",
    "print(mean_squared_error(Y, y_pred))\n",
    "\n",
    "#Compute the RMSE\n",
    "print(\"The Following is the RMSE:\")\n",
    "print(numpy.sqrt(mean_squared_error(Y, y_pred)))\n",
    "\n",
    "#Compute the R^2 Score\n",
    "from sklearn.metrics import r2_score\n",
    "print(\"The Following is the R^2 Score:\")\n",
    "print(r2_score(Y,y_pred))"
   ]
  },
  {
   "cell_type": "code",
   "execution_count": 6,
   "metadata": {},
   "outputs": [
    {
     "data": {
      "text/plain": [
       "array([ 9.12070399e-03, -8.40303623e+11, -8.40303623e+11, -8.40303623e+11,\n",
       "       -8.40303623e+11,  9.94400053e-02,  1.32897305e-02,  1.33244356e-04,\n",
       "       -4.21489067e+10, -4.21489067e+10,  4.91005005e-02,  8.93628395e-02,\n",
       "        6.79687575e-02,  1.03156901e-01,  8.44059632e-02, -1.20955040e-02,\n",
       "        1.15195542e-01,  5.55169809e-02,  2.00125909e-01,  8.56166893e-02,\n",
       "        1.23403550e-02, -1.03743068e-01, -2.51913671e-01, -2.56804449e-01,\n",
       "       -1.70420418e-01, -8.77939441e-03])"
      ]
     },
     "execution_count": 6,
     "metadata": {},
     "output_type": "execute_result"
    }
   ],
   "source": [
    "lr.coef_"
   ]
  },
  {
   "cell_type": "code",
   "execution_count": 7,
   "metadata": {},
   "outputs": [
    {
     "data": {
      "text/plain": [
       "882452529813.4664"
      ]
     },
     "execution_count": 7,
     "metadata": {},
     "output_type": "execute_result"
    }
   ],
   "source": [
    "lr.intercept_"
   ]
  },
  {
   "cell_type": "markdown",
   "metadata": {},
   "source": [
    "# Neural Network Part"
   ]
  },
  {
   "cell_type": "code",
   "execution_count": 8,
   "metadata": {},
   "outputs": [
    {
     "name": "stderr",
     "output_type": "stream",
     "text": [
      "Using TensorFlow backend.\n"
     ]
    }
   ],
   "source": [
    "#Define Imports\n",
    "from keras.models import Sequential\n",
    "from keras.layers.core import Dense, Activation\n",
    "from sklearn.preprocessing import StandardScaler\n",
    "from sklearn import metrics\n",
    "from keras.layers.core import Dense, Activation\n",
    "from keras.callbacks import EarlyStopping\n",
    "from keras.callbacks import ModelCheckpoint\n",
    "\n",
    "\n",
    "#graphings\n",
    "import matplotlib.pyplot as plt\n",
    "\n",
    "#Scalers\n",
    "from sklearn.metrics import roc_curve, auc\n",
    "from sklearn.preprocessing import MinMaxScaler\n",
    "\n",
    "\n",
    "#Scaling X inputs\n",
    "scaler = StandardScaler()\n",
    "Xscaled = scaler.fit_transform(X)\n",
    "scaler2 = MinMaxScaler(feature_range=(-1,1))\n",
    "Xscaled2 = scaler.fit_transform(X)"
   ]
  },
  {
   "cell_type": "code",
   "execution_count": 9,
   "metadata": {},
   "outputs": [],
   "source": [
    "#plot regression chart\n",
    "# Regression chart function\n",
    "def chart_regression(pred,y,sort=True):\n",
    "    t = pd.DataFrame({'pred' : pred, 'y' : y.flatten()})\n",
    "    if sort:\n",
    "        t.sort_values(by=['y'],inplace=True)\n",
    "    a = plt.plot(t['y'].tolist(),label='expected')\n",
    "    b = plt.plot(t['pred'].tolist(),label='prediction')\n",
    "    plt.ylabel('output')\n",
    "    plt.legend()\n",
    "    plt.show()"
   ]
  },
  {
   "cell_type": "code",
   "execution_count": 10,
   "metadata": {},
   "outputs": [
    {
     "name": "stdout",
     "output_type": "stream",
     "text": [
      "Epoch 00009: early stopping\n",
      "Score (RMSE): 0.2396191310935969\n"
     ]
    },
    {
     "data": {
      "image/png": "[encoded data removed]",
      "text/plain": [
       "<Figure size 432x288 with 1 Axes>"
      ]
     },
     "metadata": {
      "needs_background": "light"
     },
     "output_type": "display_data"
    },
    {
     "data": {
      "image/png": "[encoded data removed]",
      "text/plain": [
       "<Figure size 432x288 with 1 Axes>"
      ]
     },
     "metadata": {
      "needs_background": "light"
     },
     "output_type": "display_data"
    }
   ],
   "source": [
    "model = Sequential()\n",
    "model.add(Dense(40, input_dim=26, activation='relu'))\n",
    "model.add(Dense(70, activation='relu'))\n",
    "model.add(Dense(100, activation='relu'))\n",
    "model.add(Dense(1, activation = 'elu'))\n",
    "model.compile(loss='mean_squared_error', optimizer='adam')\n",
    "monitor = EarlyStopping(monitor='val_loss', min_delta=1e-3, patience=5, verbose=1, mode='auto')\n",
    "checkpointer = ModelCheckpoint(filepath=\"best_weightsNew2.hdf5\", verbose=0, save_best_only=True) # save best model\n",
    "model.fit(X,Y,validation_data=(X,Y),callbacks=[monitor,checkpointer],verbose=0,epochs=1000)\n",
    "model.load_weights('best_weightsNew2.hdf5') # load weights from best model\n",
    "\n",
    "# Predict and measure RMSE\n",
    "y_predNN = model.predict(X)\n",
    "score = numpy.sqrt(metrics.mean_squared_error(y_predNN,Y))\n",
    "print(\"Score (RMSE): {}\".format(score))\n",
    "\n",
    "# Plot the chart\n",
    "chart_regression(y_predNN.flatten(),Y)\n",
    "chart_regression(y_predNN.flatten(),Y,sort=False)\n",
    "\n",
    "\n"
   ]
  },
  {
   "cell_type": "code",
   "execution_count": 11,
   "metadata": {},
   "outputs": [
    {
     "name": "stdout",
     "output_type": "stream",
     "text": [
      "This is the MAE:\n",
      "0.18765845951206295\n",
      "This is the MSE:\n",
      "0.05741732798605038\n",
      "The Following is the RMSE:\n",
      "0.2396191310935969\n",
      "The Following is the R^2 Score:\n",
      "0.7480325975456397\n"
     ]
    }
   ],
   "source": [
    "#Scores for NN model\n",
    "\n",
    "#Compute the MAE\n",
    "from sklearn.metrics import mean_absolute_error\n",
    "print(\"This is the MAE:\")\n",
    "print(mean_absolute_error(Y, y_predNN))\n",
    "\n",
    "#Compute the MSE\n",
    "from sklearn.metrics import mean_squared_error\n",
    "print(\"This is the MSE:\")\n",
    "print(mean_squared_error(Y, y_predNN))\n",
    "\n",
    "#Compute the RMSE\n",
    "print(\"The Following is the RMSE:\")\n",
    "print(numpy.sqrt(mean_squared_error(Y, y_predNN)))\n",
    "\n",
    "#Compute the R^2 Score\n",
    "from sklearn.metrics import r2_score\n",
    "print(\"The Following is the R^2 Score:\")\n",
    "print(r2_score(Y,y_predNN))"
   ]
  },
  {
   "cell_type": "code",
   "execution_count": 12,
   "metadata": {},
   "outputs": [],
   "source": [
    "# Split into train/test version 2, with Log_Price\n",
    "x_train, x_test, y_train, y_test = train_test_split(\n",
    "    X, Y, test_size=0.20, random_state=42)"
   ]
  },
  {
   "cell_type": "code",
   "execution_count": 13,
   "metadata": {},
   "outputs": [
    {
     "name": "stdout",
     "output_type": "stream",
     "text": [
      "This is the MAE:\n",
      "0.1826023574662402\n",
      "This is the MSE:\n",
      "0.05424350775367815\n",
      "The Following is the RMSE:\n",
      "0.23290235669412654\n",
      "The Following is the R^2 Score:\n",
      "0.761806000727937\n"
     ]
    }
   ],
   "source": [
    "lr2 = LinearRegression(normalize=True)\n",
    "lr2.fit(x_train,y_train)\n",
    "\n",
    "#prediction\n",
    "y_pred2 = lr2.predict(x_test)\n",
    "\n",
    "from sklearn.metrics import accuracy_score\n",
    "\n",
    "#accuracy_score(Y, y_pred)\n",
    "\n",
    "#Compute the MAE\n",
    "from sklearn.metrics import mean_absolute_error\n",
    "print(\"This is the MAE:\")\n",
    "print(mean_absolute_error(y_test, y_pred2))\n",
    "\n",
    "#Compute the MSE\n",
    "from sklearn.metrics import mean_squared_error\n",
    "print(\"This is the MSE:\")\n",
    "print(mean_squared_error(y_test, y_pred2))\n",
    "\n",
    "#Compute the RMSE\n",
    "print(\"The Following is the RMSE:\")\n",
    "print(numpy.sqrt(mean_squared_error(y_test, y_pred2)))\n",
    "\n",
    "#Compute the R^2 Score\n",
    "from sklearn.metrics import r2_score\n",
    "print(\"The Following is the R^2 Score:\")\n",
    "print(r2_score(y_test,y_pred2))"
   ]
  },
  {
   "cell_type": "code",
   "execution_count": 14,
   "metadata": {},
   "outputs": [
    {
     "name": "stdout",
     "output_type": "stream",
     "text": [
      "Epoch 00011: early stopping\n",
      "Score (RMSE): 0.2261723514344\n"
     ]
    },
    {
     "data": {
      "image/png": "[encoded data removed]",
      "text/plain": [
       "<Figure size 432x288 with 1 Axes>"
      ]
     },
     "metadata": {
      "needs_background": "light"
     },
     "output_type": "display_data"
    },
    {
     "data": {
      "image/png": "[encoded data removed]",
      "text/plain": [
       "<Figure size 432x288 with 1 Axes>"
      ]
     },
     "metadata": {
      "needs_background": "light"
     },
     "output_type": "display_data"
    }
   ],
   "source": [
    "model2 = Sequential()\n",
    "model2.add(Dense(40, input_dim=26, activation='relu'))\n",
    "model2.add(Dense(70, activation='relu'))\n",
    "model2.add(Dense(100, activation='relu'))\n",
    "model2.add(Dense(1, activation = 'elu'))\n",
    "model2.compile(loss='mean_squared_error', optimizer='adam')\n",
    "monitor = EarlyStopping(monitor='val_loss', min_delta=1e-3, patience=5, verbose=1, mode='auto')\n",
    "checkpointer = ModelCheckpoint(filepath=\"best_weightsNew2.hdf5\", verbose=0, save_best_only=True) # save best model\n",
    "model.fit(x_train,y_train,validation_data=(x_test,y_test),callbacks=[monitor,checkpointer],verbose=0,epochs=1000)\n",
    "model.load_weights('best_weightsNew2.hdf5') # load weights from best model\n",
    "\n",
    "# Predict and measure RMSE\n",
    "y_predNN2 = model.predict(x_test)\n",
    "score = numpy.sqrt(metrics.mean_squared_error(y_predNN2,y_test))\n",
    "print(\"Score (RMSE): {}\".format(score))\n",
    "\n",
    "# Plot the chart\n",
    "chart_regression(y_predNN2.flatten(),y_test)\n",
    "chart_regression(y_predNN2.flatten(),y_test,sort=False)"
   ]
  },
  {
   "cell_type": "code",
   "execution_count": 15,
   "metadata": {},
   "outputs": [
    {
     "name": "stdout",
     "output_type": "stream",
     "text": [
      "This is the MAE:\n",
      "0.1763466686093723\n",
      "This is the MSE:\n",
      "0.05115393255336574\n",
      "The Following is the RMSE:\n",
      "0.2261723514344\n",
      "The Following is the R^2 Score:\n",
      "0.7753729381088312\n"
     ]
    }
   ],
   "source": [
    "#Scores for NN model\n",
    "\n",
    "#Compute the MAE\n",
    "from sklearn.metrics import mean_absolute_error\n",
    "print(\"This is the MAE:\")\n",
    "print(mean_absolute_error(y_test, y_predNN2))\n",
    "\n",
    "#Compute the MSE\n",
    "from sklearn.metrics import mean_squared_error\n",
    "print(\"This is the MSE:\")\n",
    "print(mean_squared_error(y_test, y_predNN2))\n",
    "\n",
    "#Compute the RMSE\n",
    "print(\"The Following is the RMSE:\")\n",
    "print(numpy.sqrt(mean_squared_error(y_test, y_predNN2)))\n",
    "\n",
    "#Compute the R^2 Score\n",
    "from sklearn.metrics import r2_score\n",
    "print(\"The Following is the R^2 Score:\")\n",
    "print(r2_score(y_test,y_predNN2))"
   ]
  },
  {
   "cell_type": "code",
   "execution_count": 16,
   "metadata": {},
   "outputs": [
    {
     "name": "stdout",
     "output_type": "stream",
     "text": [
      "[[12.443722]\n",
      " [12.824389]\n",
      " [12.716552]\n",
      " ...\n",
      " [12.181062]\n",
      " [12.291388]\n",
      " [12.417188]]\n"
     ]
    }
   ],
   "source": [
    "print(y_predNN2)"
   ]
  },
  {
   "cell_type": "code",
   "execution_count": 17,
   "metadata": {},
   "outputs": [
    {
     "name": "stdout",
     "output_type": "stream",
     "text": [
      "[12.47170019 12.72845745 12.63307428 ... 12.22683907 12.28098488\n",
      " 12.31928682]\n"
     ]
    }
   ],
   "source": [
    "print(y_pred2)"
   ]
  },
  {
   "cell_type": "code",
   "execution_count": 18,
   "metadata": {},
   "outputs": [
    {
     "name": "stdout",
     "output_type": "stream",
     "text": [
      "[12.43320822 12.9598468  12.73080117 ... 12.17561344 12.28995413\n",
      " 12.31043266]\n"
     ]
    }
   ],
   "source": [
    "print(y_test)"
   ]
  },
  {
   "cell_type": "code",
   "execution_count": 22,
   "metadata": {},
   "outputs": [],
   "source": [
    "df2 = pd.read_csv(\"get-plot-agehouse.csv\") \n",
    "dataset2 = df2.values\n",
    "\n",
    "X_age = dataset2[:,0:26]\n",
    "Y_age = dataset2[:,27]"
   ]
  },
  {
   "cell_type": "code",
   "execution_count": 23,
   "metadata": {},
   "outputs": [],
   "source": [
    "age_pred = lr.predict(X_age)"
   ]
  },
  {
   "cell_type": "code",
   "execution_count": 36,
   "metadata": {},
   "outputs": [],
   "source": [
    "yname = [\"u\",\"ref\", \"1500+\",\"1931+\",\"1945+\",\"1960+\",\"1971+\",\"1981+\",\"1991+\",\"2001+\"]"
   ]
  },
  {
   "cell_type": "code",
   "execution_count": 37,
   "metadata": {},
   "outputs": [
    {
     "data": {
      "text/plain": [
       "Text(0.5, 1.0, 'Construction year and log-house price')"
      ]
     },
     "execution_count": 37,
     "metadata": {},
     "output_type": "execute_result"
    },
    {
     "data": {
      "image/png": "[encoded data removed]",
      "text/plain": [
       "<Figure size 432x288 with 1 Axes>"
      ]
     },
     "metadata": {
      "needs_background": "light"
     },
     "output_type": "display_data"
    }
   ],
   "source": [
    "plt.plot(yname,age_pred,linestyle='--', marker='o', color='b')\n",
    "plt.ylabel(\"log-price\")\n",
    "plt.title(\"Construction year and log-house price\")\n",
    "#plt.xlabel(\"year of construction, u = unknown, ref = reference/1906-1930\")"
   ]
  },
  {
   "cell_type": "code",
   "execution_count": 63,
   "metadata": {},
   "outputs": [],
   "source": [
    "cases=[]\n",
    "for n in range(20):\n",
    "    cases.append(str(n))\n",
    "    "
   ]
  },
  {
   "cell_type": "code",
   "execution_count": 62,
   "metadata": {},
   "outputs": [
    {
     "name": "stdout",
     "output_type": "stream",
     "text": [
      "['0', '1', '2', '3', '4', '5', '6', '7', '8', '9', '10', '11', '12', '13', '14', '15', '16', '17', '18', '19']\n"
     ]
    }
   ],
   "source": [
    "print(cases)"
   ]
  },
  {
   "cell_type": "code",
   "execution_count": 67,
   "metadata": {},
   "outputs": [
    {
     "data": {
      "text/plain": [
       "<matplotlib.legend.Legend at 0x2e340bd6cf8>"
      ]
     },
     "execution_count": 67,
     "metadata": {},
     "output_type": "execute_result"
    },
    {
     "data": {
      "image/png": "[encoded data removed]",
      "text/plain": [
       "<Figure size 432x288 with 1 Axes>"
      ]
     },
     "metadata": {
      "needs_background": "light"
     },
     "output_type": "display_data"
    }
   ],
   "source": [
    "X_table_lr = lr.predict(X_table)\n",
    "X_table_NN = model.predict(X_table)\n",
    "\n",
    "plt.plot(cases,X_table_lr,linestyle='--', marker='o', color='b',label='LR')\n",
    "plt.plot(cases,X_table_NN, linestyle='--', marker='o', color='y',label='NN')\n",
    "plt.plot(cases,Y_table, linestyle='--', marker='o', color='r', label ='Actual')\n",
    "plt.title('Predicted Prices')\n",
    "plt.ylabel(\"log price\")\n",
    "plt.xlabel(\"Cases\")\n",
    "plt.legend()"
   ]
  },
  {
   "cell_type": "code",
   "execution_count": 69,
   "metadata": {},
   "outputs": [
    {
     "name": "stdout",
     "output_type": "stream",
     "text": [
      "15.4949951171875\n",
      "15.234375\n",
      "15.2974853515625\n",
      "15.9168701171875\n",
      "15.099853515625\n",
      "14.8851318359375\n",
      "15.60791015625\n",
      "15.7562255859375\n",
      "14.2425537109375\n",
      "14.583984375\n",
      "14.583984375\n",
      "15.5655517578125\n",
      "14.8026123046875\n",
      "15.5045166015625\n",
      "15.037353515625\n",
      "14.518798828125\n",
      "15.072021484375\n",
      "15.072021484375\n",
      "15.3890380859375\n",
      "14.9642333984375\n"
     ]
    }
   ],
   "source": [
    "for price in X_table_lr:\n",
    "    print(price)\n"
   ]
  },
  {
   "cell_type": "code",
   "execution_count": 70,
   "metadata": {},
   "outputs": [
    {
     "name": "stdout",
     "output_type": "stream",
     "text": [
      "[14.782414]\n",
      "[14.641139]\n",
      "[14.679446]\n",
      "[15.200257]\n",
      "[14.550961]\n",
      "[14.370049]\n",
      "[14.934865]\n",
      "[14.984293]\n",
      "[13.999337]\n",
      "[14.245799]\n",
      "[14.245799]\n",
      "[14.870002]\n",
      "[14.294585]\n",
      "[14.819451]\n",
      "[14.407308]\n",
      "[14.200945]\n",
      "[14.468351]\n",
      "[14.468351]\n",
      "[14.697535]\n",
      "[14.433842]\n"
     ]
    }
   ],
   "source": [
    "for price in X_table_NN:\n",
    "    print(price)"
   ]
  },
  {
   "cell_type": "code",
   "execution_count": 71,
   "metadata": {},
   "outputs": [
    {
     "name": "stdout",
     "output_type": "stream",
     "text": [
      "15.3195879547405\n",
      "15.201804919084198\n",
      "15.110237725558699\n",
      "15.1033648462709\n",
      "14.914122846632399\n",
      "14.8361613051627\n",
      "14.8087623309746\n",
      "14.801327352486998\n",
      "14.7767746554812\n",
      "14.7318012898384\n",
      "14.7318012898384\n",
      "14.7318012898384\n",
      "14.7013420823537\n",
      "14.6972098450688\n",
      "14.690979295318199\n",
      "14.6699258861203\n",
      "14.6699258861203\n",
      "14.659230597003601\n",
      "14.6570777436425\n",
      "14.6549202455025\n"
     ]
    }
   ],
   "source": [
    "for price in Y_table:\n",
    "    print(price)"
   ]
  },
  {
   "cell_type": "code",
   "execution_count": null,
   "metadata": {},
   "outputs": [],
   "source": []
  }
 ],
 "metadata": {
  "kernelspec": {
   "display_name": "Python 3",
   "language": "python",
   "name": "python3"
  },
  "language_info": {
   "codemirror_mode": {
    "name": "ipython",
    "version": 3
   },
   "file_extension": ".py",
   "mimetype": "text/x-python",
   "name": "python",
   "nbconvert_exporter": "python",
   "pygments_lexer": "ipython3",
   "version": "3.6.7"
  }
 },
 "nbformat": 4,
 "nbformat_minor": 2
}
